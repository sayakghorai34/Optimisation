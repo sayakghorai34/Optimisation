{
 "cells": [
  {
   "cell_type": "code",
   "execution_count": 4,
   "metadata": {},
   "outputs": [
    {
     "data": {
      "text/html": [
       "        <script type=\"text/javascript\">\n",
       "        window.PlotlyConfig = {MathJaxConfig: 'local'};\n",
       "        if (window.MathJax && window.MathJax.Hub && window.MathJax.Hub.Config) {window.MathJax.Hub.Config({SVG: {font: \"STIX-Web\"}});}\n",
       "        if (typeof require !== 'undefined') {\n",
       "        require.undef(\"plotly\");\n",
       "        requirejs.config({\n",
       "            paths: {\n",
       "                'plotly': ['https://cdn.plot.ly/plotly-2.25.2.min']\n",
       "            }\n",
       "        });\n",
       "        require(['plotly'], function(Plotly) {\n",
       "            window._Plotly = Plotly;\n",
       "        });\n",
       "        }\n",
       "        </script>\n",
       "        "
      ]
     },
     "metadata": {},
     "output_type": "display_data"
    },
    {
     "data": {
      "text/plain": [
       "'my_fun_plot.html'"
      ]
     },
     "execution_count": 4,
     "metadata": {},
     "output_type": "execute_result"
    }
   ],
   "source": [
    "import sympy as sp\n",
    "import numpy as np\n",
    "import pandas as pd\n",
    "import plotly.graph_objs as go\n",
    "from plotly.offline import download_plotlyjs, init_notebook_mode, plot\n",
    "\n",
    "# Define the function my_fun\n",
    "def my_fun(x, y):\n",
    "    return 2*y + (1 / ((2 * x**2) - 1))\n",
    "\n",
    "# Create a range of x and y values\n",
    "x_values = np.linspace(-10, 10, 200)  # Adjust the range and number of points as needed\n",
    "y_values = np.linspace(-10, 10, 200)  # Adjust the range and number of points as needed\n",
    "\n",
    "# Create a grid of (x, y) pairs\n",
    "X, Y = np.meshgrid(x_values, y_values)\n",
    "\n",
    "# Calculate the function values for each (x, y) pair\n",
    "Z = my_fun(X, Y)\n",
    "\n",
    "# Create a Pandas DataFrame from the calculated values\n",
    "df = pd.DataFrame({'x': X.flatten(), 'y': Y.flatten(), 'z': Z.flatten()})\n",
    "\n",
    "# Create a 3D surface plot using Plotly\n",
    "init_notebook_mode(connected=True)\n",
    "\n",
    "fig = go.Figure(data=[\n",
    "    go.Surface(z=df['z'].values.reshape(X.shape), x=df['x'].values.reshape(X.shape), y=df['y'].values.reshape(X.shape))\n",
    "])\n",
    "\n",
    "fig.update_layout(scene=dict(zaxis_title='my_fun(x, y)'))\n",
    "plot(fig, filename='my_fun_plot.html')  # This will save the plot as an HTML file\n"
   ]
  },
  {
   "cell_type": "code",
   "execution_count": 5,
   "metadata": {},
   "outputs": [
    {
     "name": "stdout",
     "output_type": "stream",
     "text": [
      "2*y + 1/(2*x**2 - 1)\n",
      "\n",
      " -4*x/(2*x**2 - 1)**2 \n",
      "\n",
      " 2\n"
     ]
    }
   ],
   "source": [
    "x, y = sp.symbols('x y')\n",
    "fun = 2*y + (1 / ((2 * x**2) - 1))\n",
    "print(fun)\n",
    "df_dx = sp.diff(fun, x)  # Partial derivative with respect to x\n",
    "df_dy = sp.diff(fun, y)  # Partial derivative with respect to y\n",
    "print('\\n',df_dx,'\\n\\n',df_dy)"
   ]
  }
 ],
 "metadata": {
  "kernelspec": {
   "display_name": "Python 3",
   "language": "python",
   "name": "python3"
  },
  "language_info": {
   "codemirror_mode": {
    "name": "ipython",
    "version": 3
   },
   "file_extension": ".py",
   "mimetype": "text/x-python",
   "name": "python",
   "nbconvert_exporter": "python",
   "pygments_lexer": "ipython3",
   "version": "3.9.7"
  },
  "orig_nbformat": 4
 },
 "nbformat": 4,
 "nbformat_minor": 2
}

{
 "cells": [
  {
   "cell_type": "code",
   "execution_count": 25,
   "metadata": {},
   "outputs": [],
   "source": [
    "import numpy as np\n",
    "import matplotlib.pyplot as plt\n",
    "from scipy.optimize import minimize  # Import the minimize function\n"
   ]
  },
  {
   "cell_type": "code",
   "execution_count": 26,
   "metadata": {},
   "outputs": [],
   "source": [
    "# Define your unimodal function\n",
    "def my_fun(x):\n",
    "    return ((x + 5) ** 2 + 2)"
   ]
  },
  {
   "cell_type": "code",
   "execution_count": 27,
   "metadata": {},
   "outputs": [],
   "source": [
    "x_data = np.linspace(-20.0, 5.0, 200)\n",
    "y_data = my_fun(x_data)"
   ]
  },
  {
   "cell_type": "code",
   "execution_count": 28,
   "metadata": {},
   "outputs": [],
   "source": [
    "def quadratic_function(a, b, c, x):\n",
    "    return a * x**2 + b * x + c\n",
    "\n",
    "# Define the objective function for quadratic fit\n",
    "def objective(params, x, y):\n",
    "    a, b, c = params\n",
    "    return np.sum((quadratic_function(a, b, c, x) - y)**2)"
   ]
  },
  {
   "cell_type": "code",
   "execution_count": 35,
   "metadata": {},
   "outputs": [
    {
     "data": {
      "text/plain": [
       "[<matplotlib.lines.Line2D at 0x15cfa8220>]"
      ]
     },
     "execution_count": 35,
     "metadata": {},
     "output_type": "execute_result"
    },
    {
     "data": {
      "image/png": "[encoded data removed]",
      "text/plain": [
       "<Figure size 576x432 with 1 Axes>"
      ]
     },
     "metadata": {
      "needs_background": "light"
     },
     "output_type": "display_data"
    }
   ],
   "source": [
    "initial_guess = [1, 1, 1]\n",
    "\n",
    "# Define the search range\n",
    "search_range = (-10, 0)  # Modify this range as needed\n",
    "\n",
    "# Tolerance for convergence\n",
    "tolerance = 1e-3  # Adjust the tolerance\n",
    "\n",
    "fig, ax = plt.subplots(figsize=(8, 6))\n",
    "\n",
    "# Plot the unimodal function\n",
    "ax.plot(x_data, y_data, label='Unimodal Function', color='blue')"
   ]
  },
  {
   "cell_type": "code",
   "execution_count": 38,
   "metadata": {},
   "outputs": [],
   "source": [
    "while search_range[1] - search_range[0] > tolerance:\n",
    "    x_range = np.linspace(search_range[0], search_range[1], 200)  # Reduce the number of points\n",
    "    y_range = my_fun(x_range)\n",
    "\n",
    "    result = minimize(objective, initial_guess, args=(x_range, y_range), method='BFGS')\n",
    "    a_fit, b_fit, c_fit = result.x\n",
    "\n",
    "    x_fit = np.linspace(search_range[0], search_range[1], 100)\n",
    "    y_fit = quadratic_function(a_fit, b_fit, c_fit, x_fit)\n",
    "\n",
    "    ax.plot(x_fit, y_fit, label=f'Quadratic Fit: {search_range}', alpha=0.5)\n",
    "\n",
    "    # Calculate the gradient at the minimum of the quadratic fit\n",
    "    gradient = 2 * (a_fit * x_fit + b_fit)\n",
    "\n",
    "    # Adjust the step size based on the gradient\n",
    "    step_size = np.min(np.abs(x_fit[1:] - x_fit[:-1]))\n",
    "    step_size /= np.max(np.abs(gradient))  # Adjust the step size based on the gradient magnitude\n",
    "\n",
    "    # Update the search range\n",
    "    min_x_fit = x_fit[np.argmin(y_fit)]\n",
    "    search_range = (min_x_fit - step_size, min_x_fit + step_size)\n"
   ]
  },
  {
   "cell_type": "code",
   "execution_count": 39,
   "metadata": {},
   "outputs": [
    {
     "data": {
      "image/png": "[encoded data removed]",
      "text/plain": [
       "<Figure size 432x288 with 1 Axes>"
      ]
     },
     "metadata": {
      "needs_background": "light"
     },
     "output_type": "display_data"
    },
    {
     "name": "stdout",
     "output_type": "stream",
     "text": [
      "Minima found at x = -5.056062898101513, y = 2.0031430485435404\n"
     ]
    }
   ],
   "source": [
    "# Set labels and title\n",
    "ax.set_xlabel('x')\n",
    "ax.set_ylabel('y')\n",
    "ax.set_title('Quadratic Fit Search for Unimodal Function')\n",
    "\n",
    "# Add legend\n",
    "ax.legend()\n",
    "\n",
    "# Show the plot\n",
    "plt.grid(True)\n",
    "plt.show()\n",
    "\n",
    "# Print the final result\n",
    "print(f\"Minima found at x = {min_x_fit}, y = {my_fun(min_x_fit)}\")"
   ]
  }
 ],
 "metadata": {
  "kernelspec": {
   "display_name": "Python 3",
   "language": "python",
   "name": "python3"
  },
  "language_info": {
   "name": "python",
   "version": "3.9.7"
  },
  "orig_nbformat": 4
 },
 "nbformat": 4,
 "nbformat_minor": 2
}

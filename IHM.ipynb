{
 "cells": [
  {
   "cell_type": "code",
   "execution_count": 25,
   "metadata": {},
   "outputs": [],
   "source": [
    "import numpy as np\n",
    "import matplotlib.pyplot as plt\n",
    "import math"
   ]
  },
  {
   "cell_type": "code",
   "execution_count": 92,
   "metadata": {},
   "outputs": [],
   "source": [
    "def my_fun(x):\n",
    "    return ((x+5)**2+2)\n"
   ]
  },
  {
   "cell_type": "code",
   "execution_count": 93,
   "metadata": {},
   "outputs": [
    {
     "data": {
      "text/plain": [
       "[<matplotlib.lines.Line2D at 0x11d6af760>]"
      ]
     },
     "execution_count": 93,
     "metadata": {},
     "output_type": "execute_result"
    },
    {
     "data": {
      "image/png": "[encoded data removed]",
      "text/plain": [
       "<Figure size 432x288 with 1 Axes>"
      ]
     },
     "metadata": {
      "needs_background": "light"
     },
     "output_type": "display_data"
    }
   ],
   "source": [
    "xpoints = x = np.linspace(-20.0, 5.0, 1000)\n",
    "ypoints = my_fun(xpoints)\n",
    "plt.plot(xpoints,ypoints)"
   ]
  },
  {
   "cell_type": "code",
   "execution_count": 94,
   "metadata": {},
   "outputs": [
    {
     "name": "stdout",
     "output_type": "stream",
     "text": [
      "8.0\n"
     ]
    }
   ],
   "source": [
    "print(math.dist([-4],[4]))"
   ]
  },
  {
   "cell_type": "code",
   "execution_count": 128,
   "metadata": {},
   "outputs": [],
   "source": [
    "steps = 0\n",
    "def findMinima(a,b,d):\n",
    "    global steps\n",
    "    if abs(math.dist([a],[b]))<d:\n",
    "        print(\"a»b Distance: \",math.dist([a],[b]))\n",
    "        steps+=1\n",
    "        arr = [a,b]\n",
    "        print(arr)\n",
    "        return arr\n",
    "    steps+=1 \n",
    "    x1 = b - (0.618*(math.dist([a],[b])))   \n",
    "    \n",
    "    #Just to remove ambiguity. when y = x^2 f(x1) = f(x2) so it won't work so add little offset to any of the points x1 or x2. \n",
    "    \n",
    "    x2 = a + (0.618*(math.dist([a],[b])))\n",
    "    print(\"a»b Distance: \",math.dist([a],[b]))\n",
    "    if(abs(my_fun(x1)) > abs(my_fun(x2))):\n",
    "        a = x1\n",
    "        # findMinima(a,b,d)\n",
    "    elif(my_fun(x1) < my_fun(x2)):\n",
    "        b = x2\n",
    "        # findMinima(a,b,d)\n",
    "    elif(my_fun(x1)==my_fun(x2)):\n",
    "        a,b = x1,x2\n",
    "    findMinima(a,b,d)"
   ]
  },
  {
   "cell_type": "code",
   "execution_count": 130,
   "metadata": {},
   "outputs": [
    {
     "name": "stdout",
     "output_type": "stream",
     "text": [
      "a»b Distance:  12.0\n",
      "a»b Distance:  7.416\n",
      "a»b Distance:  4.583088\n",
      "a»b Distance:  2.832348384\n",
      "a»b Distance:  1.7503913013119998\n",
      "a»b Distance:  1.081741824210816\n",
      "a»b Distance:  0.6685164473622844\n",
      "a»b Distance:  0.41314316446989174\n",
      "a»b Distance:  0.25532247564239263\n",
      "a»b Distance:  0.15778928994699903\n",
      "a»b Distance:  0.09751378118724574\n",
      "a»b Distance:  0.060263516773717996\n",
      "a»b Distance:  0.03724285336615729\n",
      "a»b Distance:  0.023016083380285046\n",
      "a»b Distance:  0.014223939529015794\n",
      "a»b Distance:  0.008790394628931608\n",
      "a»b Distance:  0.005432463880679528\n",
      "a»b Distance:  0.0033572626782598647\n",
      "a»b Distance:  0.0020747883351646124\n",
      "a»b Distance:  0.001282219191131695\n",
      "a»b Distance:  0.0007924114601189913\n",
      "[-5.0002180678778485, -4.9994256564177295]\n",
      "float64\n",
      "Minima Between Range :None With Tollerence 0.001\n",
      " Calculated in 37 steps.\n"
     ]
    }
   ],
   "source": [
    "d = 0.001\n",
    "i = findMinima(-6,6,d)\n",
    "print(np.dtype(i))\n",
    "print(f\"Minima Between Range :{i} With Tollerence {d}\\n Calculated in {steps} steps.\")\n"
   ]
  }
 ],
 "metadata": {
  "kernelspec": {
   "display_name": "Python 3",
   "language": "python",
   "name": "python3"
  },
  "language_info": {
   "codemirror_mode": {
    "name": "ipython",
    "version": 3
   },
   "file_extension": ".py",
   "mimetype": "text/x-python",
   "name": "python",
   "nbconvert_exporter": "python",
   "pygments_lexer": "ipython3",
   "version": "3.9.7"
  },
  "orig_nbformat": 4
 },
 "nbformat": 4,
 "nbformat_minor": 2
}

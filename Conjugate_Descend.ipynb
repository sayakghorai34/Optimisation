{
 "cells": [
  {
   "cell_type": "code",
   "execution_count": 2,
   "metadata": {},
   "outputs": [],
   "source": [
    "import numpy as np\n",
    "import sympy as sp\n",
    "import matplotlib.pyplot as plt"
   ]
  },
  {
   "cell_type": "code",
   "execution_count": 3,
   "metadata": {},
   "outputs": [
    {
     "ename": "IndentationError",
     "evalue": "expected an indented block (1725768439.py, line 36)",
     "output_type": "error",
     "traceback": [
      "\u001b[0;36m  File \u001b[0;32m\"/var/folders/vg/xkgpp1wn7xq_0n_h3054ds0m0000gn/T/ipykernel_3252/1725768439.py\"\u001b[0;36m, line \u001b[0;32m36\u001b[0m\n\u001b[0;31m    \u001b[0m\n\u001b[0m    ^\u001b[0m\n\u001b[0;31mIndentationError\u001b[0m\u001b[0;31m:\u001b[0m expected an indented block\n"
     ]
    }
   ],
   "source": [
    "initial_point = [1,1]\n",
    "\n",
    "points = [initial_point]\n",
    "def function_f(x, y):\n",
    "    # return (1-y)**2 + 5*(x-y**2)**2\n",
    "    # return 2*(x+1)**2 + 4*y**2\n",
    "    return x**2 + 2*y**2\n",
    "def coeff_matrix():\n",
    "    return np.array(\n",
    "        [1,0],\n",
    "        [0,2])\n",
    "    \n",
    "def gradient(x, y):\n",
    "    x_sym, y_sym = sp.symbols('x y')\n",
    "    f = function_f(x_sym, y_sym)\n",
    "    gradient = [sp.diff(f, x_sym), sp.diff(f, y_sym)]\n",
    "    return np.array([float(gradient[0].subs({x_sym: x, y_sym: y})), float(gradient[1].subs({x_sym: x, y_sym: y}))])\n",
    "\n",
    "def get_alpha(x, y):\n",
    "    x_sym, y_sym = sp.symbols('x y')\n",
    "    f = function_f(x_sym, y_sym)\n",
    "    grad = gradient(x, y)\n",
    "    # Calculate Hessian matrix (Q)\n",
    "    Q = np.array([[float(sp.diff(sp.diff(f, x_sym), x_sym).subs({x_sym: x, y_sym: y})),\n",
    "                   float(sp.diff(sp.diff(f, x_sym), y_sym).subs({x_sym: x, y_sym: y}))],\n",
    "                  [float(sp.diff(sp.diff(f, y_sym), x_sym).subs({x_sym: x, y_sym: y})),\n",
    "                   float(sp.diff(sp.diff(f, y_sym), y_sym).subs({x_sym: x, y_sym: y}))]])\n",
    "    # Avoid division by zero or very small values\n",
    "    denominator = np.dot(np.dot(grad, Q), grad)\n",
    "    if np.abs(denominator) < 1e-6:\n",
    "        denominator = 1e-6\n",
    "    \n",
    "    return abs(np.dot(grad, grad) / denominator)\n",
    "\n",
    "def get_beta(u_i,points):\n",
    "    "
   ]
  },
  {
   "cell_type": "code",
   "execution_count": null,
   "metadata": {},
   "outputs": [
    {
     "ename": "NameError",
     "evalue": "name 'initial_point' is not defined",
     "output_type": "error",
     "traceback": [
      "\u001b[0;31m---------------------------------------------------------------------------\u001b[0m",
      "\u001b[0;31mNameError\u001b[0m                                 Traceback (most recent call last)",
      "\u001b[0;32m/var/folders/vg/xkgpp1wn7xq_0n_h3054ds0m0000gn/T/ipykernel_3252/1907385276.py\u001b[0m in \u001b[0;36m<module>\u001b[0;34m\u001b[0m\n\u001b[1;32m     16\u001b[0m \u001b[0;34m\u001b[0m\u001b[0m\n\u001b[1;32m     17\u001b[0m \u001b[0;34m\u001b[0m\u001b[0m\n\u001b[0;32m---> 18\u001b[0;31m \u001b[0mx1\u001b[0m \u001b[0;34m=\u001b[0m \u001b[0minitial_point\u001b[0m \u001b[0;34m-\u001b[0m \u001b[0mget_alpha\u001b[0m\u001b[0;34m(\u001b[0m\u001b[0minitial_point\u001b[0m\u001b[0;34m[\u001b[0m\u001b[0;36m0\u001b[0m\u001b[0;34m]\u001b[0m\u001b[0;34m,\u001b[0m\u001b[0minitial_point\u001b[0m\u001b[0;34m[\u001b[0m\u001b[0;36m1\u001b[0m\u001b[0;34m]\u001b[0m\u001b[0;34m)\u001b[0m \u001b[0;34m*\u001b[0m \u001b[0mgradient\u001b[0m\u001b[0;34m(\u001b[0m\u001b[0minitial_point\u001b[0m\u001b[0;34m[\u001b[0m\u001b[0;36m0\u001b[0m\u001b[0;34m]\u001b[0m\u001b[0;34m,\u001b[0m\u001b[0minitial_point\u001b[0m\u001b[0;34m[\u001b[0m\u001b[0;36m1\u001b[0m\u001b[0;34m]\u001b[0m\u001b[0;34m)\u001b[0m\u001b[0;34m\u001b[0m\u001b[0;34m\u001b[0m\u001b[0m\n\u001b[0m\u001b[1;32m     19\u001b[0m \u001b[0;34m\u001b[0m\u001b[0m\n",
      "\u001b[0;31mNameError\u001b[0m: name 'initial_point' is not defined"
     ]
    }
   ],
   "source": [
    "# Conjugate Descend descent\n",
    "def Conjugate_descent(initial_point, iterations):\n",
    "    \n",
    "    u_0 = -1*gradient(initial_point[0],initial_point[1])\n",
    "    \n",
    "    \n",
    "    points = [initial_point]\n",
    "    current_point = initial_point\n",
    "    \n",
    "    for i in range(iterations):\n",
    "        grad = gradient(current_point[0], current_point[1])\n",
    "        current_point = current_point - get_alpha(current_point[0],current_point[1]) * grad\n",
    "        points.append(current_point)\n",
    "    \n",
    "    return np.array(points)\n",
    "\n",
    "\n",
    "x1 = initial_point - get_alpha(initial_point[0],initial_point[1]) * gradient(initial_point[0],initial_point[1])\n",
    "\n"
   ]
  }
 ],
 "metadata": {
  "kernelspec": {
   "display_name": "Python 3",
   "language": "python",
   "name": "python3"
  },
  "language_info": {
   "codemirror_mode": {
    "name": "ipython",
    "version": 3
   },
   "file_extension": ".py",
   "mimetype": "text/x-python",
   "name": "python",
   "nbconvert_exporter": "python",
   "pygments_lexer": "ipython3",
   "version": "3.9.7"
  },
  "orig_nbformat": 4
 },
 "nbformat": 4,
 "nbformat_minor": 2
}
